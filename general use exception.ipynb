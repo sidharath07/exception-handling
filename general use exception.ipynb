{
 "cells": [
  {
   "cell_type": "code",
   "execution_count": 1,
   "id": "1b249391-63dc-47aa-8fb4-82032f1932f4",
   "metadata": {},
   "outputs": [
    {
     "name": "stdout",
     "output_type": "stream",
     "text": [
      "division by zero\n"
     ]
    }
   ],
   "source": [
    "try :\n",
    "    a = 10/0\n",
    "except ZeroDivisionError as e :\n",
    "    print(e)"
   ]
  },
  {
   "cell_type": "code",
   "execution_count": 2,
   "id": "71ea0c88-b05b-4b17-99e4-4208b2658d44",
   "metadata": {},
   "outputs": [
    {
     "name": "stdout",
     "output_type": "stream",
     "text": [
      "invalid literal for int() with base 10: 'sidhath'\n"
     ]
    }
   ],
   "source": [
    "try :\n",
    "    int(\"sidhath\")\n",
    "except (ValueError,TypeError) as e:\n",
    "    print(e)"
   ]
  },
  {
   "cell_type": "code",
   "execution_count": 3,
   "id": "c428f616-6d00-4cf7-8c3b-570d11c4850a",
   "metadata": {},
   "outputs": [
    {
     "name": "stdout",
     "output_type": "stream",
     "text": [
      "this will catch an error\n"
     ]
    }
   ],
   "source": [
    "try :\n",
    "    int(\"sidhath\")\n",
    "except :\n",
    "    print(\"this will catch an error\" )"
   ]
  },
  {
   "cell_type": "code",
   "execution_count": 4,
   "id": "7582bfb6-e17e-4b50-8e39-365622c2b5bd",
   "metadata": {},
   "outputs": [
    {
     "name": "stdout",
     "output_type": "stream",
     "text": [
      "No module named 'sidh'\n"
     ]
    }
   ],
   "source": [
    "try :\n",
    "    import sidh\n",
    "except ImportError as e :\n",
    "    print(e)"
   ]
  },
  {
   "cell_type": "code",
   "execution_count": 11,
   "id": "fa15fdd3-41ad-486e-8486-bf19af6916bb",
   "metadata": {},
   "outputs": [
    {
     "name": "stdout",
     "output_type": "stream",
     "text": [
      "'key2'\n"
     ]
    }
   ],
   "source": [
    "try :\n",
    "    d = {\"key\" : \"sidh\" , 1 : [2,3,4,5,6]}\n",
    "    print(d[\"key2\"])\n",
    "except  KeyError as e :\n",
    "    print(e)"
   ]
  },
  {
   "cell_type": "code",
   "execution_count": 13,
   "id": "2f81c30f-bf06-4a63-968d-f25eceb5e3e8",
   "metadata": {},
   "outputs": [
    {
     "name": "stdout",
     "output_type": "stream",
     "text": [
      "'str' object has no attribute 'test'\n"
     ]
    }
   ],
   "source": [
    "try :\n",
    "    \"sidh\".test()\n",
    "except AttributeError as e :\n",
    "    print(e)\n",
    "    "
   ]
  },
  {
   "cell_type": "code",
   "execution_count": 14,
   "id": "cbb0cf50-d7a4-4f4b-8c84-371f27e333e2",
   "metadata": {},
   "outputs": [
    {
     "name": "stdout",
     "output_type": "stream",
     "text": [
      "list index out of range\n"
     ]
    }
   ],
   "source": [
    "try :\n",
    "    l = [2,3,4,5]\n",
    "    print(l[6])\n",
    "except IndexError as e :\n",
    "    print(e)"
   ]
  },
  {
   "cell_type": "code",
   "execution_count": 15,
   "id": "ef2f0a9b-c208-4f68-8133-bdfcf9088b0e",
   "metadata": {},
   "outputs": [
    {
     "name": "stdout",
     "output_type": "stream",
     "text": [
      "unsupported operand type(s) for +: 'int' and 'str'\n"
     ]
    }
   ],
   "source": [
    "try :\n",
    "    123 + \"sidh\"\n",
    "except TypeError as e :\n",
    "    print(e)\n",
    "    "
   ]
  },
  {
   "cell_type": "code",
   "execution_count": 1,
   "id": "0979e762-9725-4572-8aed-27b3c9c8e1f9",
   "metadata": {},
   "outputs": [
    {
     "name": "stdout",
     "output_type": "stream",
     "text": [
      "[Errno 2] No such file or directory: 'etst.txt'\n"
     ]
    }
   ],
   "source": [
    "try :\n",
    "    with open (\"etst.txt\" , \"r\") as f :\n",
    "        test = f.read()\n",
    "except Exception as e :\n",
    "    print(e)\n",
    "except  FileNotFoundError as e :\n",
    "    print(e)"
   ]
  },
  {
   "cell_type": "code",
   "execution_count": 2,
   "id": "1588ba7c-249a-40da-b228-af4c161a0ad9",
   "metadata": {},
   "outputs": [
    {
     "data": {
      "text/plain": [
       "['__cause__',\n",
       " '__class__',\n",
       " '__context__',\n",
       " '__delattr__',\n",
       " '__dict__',\n",
       " '__dir__',\n",
       " '__doc__',\n",
       " '__eq__',\n",
       " '__format__',\n",
       " '__ge__',\n",
       " '__getattribute__',\n",
       " '__gt__',\n",
       " '__hash__',\n",
       " '__init__',\n",
       " '__init_subclass__',\n",
       " '__le__',\n",
       " '__lt__',\n",
       " '__ne__',\n",
       " '__new__',\n",
       " '__reduce__',\n",
       " '__reduce_ex__',\n",
       " '__repr__',\n",
       " '__setattr__',\n",
       " '__setstate__',\n",
       " '__sizeof__',\n",
       " '__str__',\n",
       " '__subclasshook__',\n",
       " '__suppress_context__',\n",
       " '__traceback__',\n",
       " 'args',\n",
       " 'with_traceback']"
      ]
     },
     "execution_count": 2,
     "metadata": {},
     "output_type": "execute_result"
    }
   ],
   "source": [
    "dir(Exception)"
   ]
  },
  {
   "cell_type": "code",
   "execution_count": 3,
   "id": "655adecb-30bd-4a07-82a4-166a0a48f5bd",
   "metadata": {},
   "outputs": [],
   "source": [
    "# best practice Exception handling"
   ]
  },
  {
   "cell_type": "code",
   "execution_count": 4,
   "id": "921789d8-73b8-4e6a-a7d3-11899bc68147",
   "metadata": {},
   "outputs": [
    {
     "name": "stdout",
     "output_type": "stream",
     "text": [
      "division by zero\n"
     ]
    }
   ],
   "source": [
    "try :\n",
    "    10/0\n",
    "except Exception as e :\n",
    "    print(e)\n",
    "    "
   ]
  },
  {
   "cell_type": "code",
   "execution_count": 7,
   "id": "82f69955-5065-4072-b42d-9b93ebee0f4a",
   "metadata": {},
   "outputs": [
    {
     "name": "stdout",
     "output_type": "stream",
     "text": [
      "i am trying to handle a error division by zero\n"
     ]
    }
   ],
   "source": [
    "# print always a proper msg\n",
    "try :\n",
    "    10/0\n",
    "except ZeroDivisionError as e:\n",
    "    print(\"i am trying to handle a error division by zero\")"
   ]
  },
  {
   "cell_type": "code",
   "execution_count": 32,
   "id": "ee45491a-654b-4331-83ed-b102d7182880",
   "metadata": {},
   "outputs": [
    {
     "ename": "TypeError",
     "evalue": "'int' object is not callable",
     "output_type": "error",
     "traceback": [
      "\u001b[0;31m---------------------------------------------------------------------------\u001b[0m",
      "\u001b[0;31mTypeError\u001b[0m                                 Traceback (most recent call last)",
      "Cell \u001b[0;32mIn[32], line 5\u001b[0m\n\u001b[1;32m      4\u001b[0m \u001b[38;5;28;01mtry\u001b[39;00m :\n\u001b[0;32m----> 5\u001b[0m      \u001b[38;5;241;43m123\u001b[39;49m\u001b[43m \u001b[49m\u001b[38;5;241;43m+\u001b[39;49m\u001b[43m \u001b[49m\u001b[38;5;124;43m\"\u001b[39;49m\u001b[38;5;124;43msidh\u001b[39;49m\u001b[38;5;124;43m\"\u001b[39;49m\n\u001b[1;32m      6\u001b[0m \u001b[38;5;28;01mexcept\u001b[39;00m \u001b[38;5;167;01mException\u001b[39;00m \u001b[38;5;28;01mas\u001b[39;00m e :\n",
      "\u001b[0;31mTypeError\u001b[0m: unsupported operand type(s) for +: 'int' and 'str'",
      "\nDuring handling of the above exception, another exception occurred:\n",
      "\u001b[0;31mTypeError\u001b[0m                                 Traceback (most recent call last)",
      "Cell \u001b[0;32mIn[32], line 7\u001b[0m\n\u001b[1;32m      5\u001b[0m      \u001b[38;5;241m123\u001b[39m \u001b[38;5;241m+\u001b[39m \u001b[38;5;124m\"\u001b[39m\u001b[38;5;124msidh\u001b[39m\u001b[38;5;124m\"\u001b[39m\n\u001b[1;32m      6\u001b[0m \u001b[38;5;28;01mexcept\u001b[39;00m \u001b[38;5;167;01mException\u001b[39;00m \u001b[38;5;28;01mas\u001b[39;00m e :\n\u001b[0;32m----> 7\u001b[0m     \u001b[43mlogging\u001b[49m\u001b[38;5;241;43m.\u001b[39;49m\u001b[43mERROR\u001b[49m\u001b[43m(\u001b[49m\u001b[38;5;124;43m\"\u001b[39;49m\u001b[38;5;124;43mi am trying to handal typing error \u001b[39;49m\u001b[38;5;132;43;01m{}\u001b[39;49;00m\u001b[38;5;124;43m \u001b[39;49m\u001b[38;5;124;43m\"\u001b[39;49m\u001b[38;5;241;43m.\u001b[39;49m\u001b[43mformat\u001b[49m\u001b[43m(\u001b[49m\u001b[43me\u001b[49m\u001b[43m)\u001b[49m\u001b[43m \u001b[49m\u001b[43m)\u001b[49m\n",
      "\u001b[0;31mTypeError\u001b[0m: 'int' object is not callable"
     ]
    }
   ],
   "source": [
    "# always try to log your error\n",
    "import logging\n",
    "logging.basicConfig(filename = \"test2.log\" , level = logging.ERROR )\n",
    "try :\n",
    "     123 + \"sidh\"\n",
    "except Exception as e :\n",
    "    logging.ERROR(\"i am trying to handal typing error {} \".format(e) )\n",
    "    \n"
   ]
  },
  {
   "cell_type": "code",
   "execution_count": 33,
   "id": "33e14156-0f5b-4c94-b915-4e614bcbcfaf",
   "metadata": {},
   "outputs": [],
   "source": [
    "# always avoid to write a multiple exception handling\n",
    "# print always a proper msg\n",
    "try :\n",
    "    10/0\n",
    "except FileNotFoundError as e :\n",
    "    logging.error(\"i am handling not found {}\".format(e))\n",
    "except AttributeError as e :\n",
    "    logging.error(\"i am handling attributerror{}\".format(e))\n",
    "except ZeroDivisionError as e:\n",
    "    logging.error(\"i am trying to handle a zerodivision error  {} \".format(e))"
   ]
  },
  {
   "cell_type": "code",
   "execution_count": 34,
   "id": "125e5ef5-7478-4419-84e3-f9e713f975b7",
   "metadata": {},
   "outputs": [],
   "source": [
    "# document all the error \n",
    "# cleanup all the resources\n",
    "try :\n",
    "    with open(\"test.txt\" , \"w\") as f :\n",
    "        f.write(\"this is my data to file\")\n",
    "except FileNotFoundError as e :\n",
    "    logging.error(\"i am handling file not found {}\".format(e))\n",
    "finally :\n",
    "    f.close()"
   ]
  },
  {
   "cell_type": "code",
   "execution_count": 2,
   "id": "d45b6dbc-61fb-41d3-8a6d-54be90d92b09",
   "metadata": {},
   "outputs": [],
   "source": [
    "# why we have to use exception class while creating a custom exception. :-\n",
    "# we have to use exception class becouse there are many errors to write any class code,\n",
    "# so we have to use excception class for handling errors."
   ]
  },
  {
   "cell_type": "code",
   "execution_count": 3,
   "id": "0dadce00-a86e-4fe0-b5c3-a91c1ad79903",
   "metadata": {},
   "outputs": [],
   "source": [
    "# what errors are difined in arithmeticerror class :-\n",
    "# raised if object accessing a member  which is not available."
   ]
  },
  {
   "cell_type": "code",
   "execution_count": 5,
   "id": "1efc6269-94de-4305-9dec-590223f5e60b",
   "metadata": {},
   "outputs": [],
   "source": [
    "# import error:-\n",
    "# there is No module named is available in lab"
   ]
  },
  {
   "cell_type": "code",
   "execution_count": 6,
   "id": "22c1c598-1cda-4587-a0f5-794678fc71d1",
   "metadata": {},
   "outputs": [
    {
     "name": "stdout",
     "output_type": "stream",
     "text": [
      "No module named 'sidh'\n"
     ]
    }
   ],
   "source": [
    "# exam[ple :-\n",
    "try :\n",
    "    import sidh\n",
    "except ImportError as e :\n",
    "    print(e)"
   ]
  },
  {
   "cell_type": "code",
   "execution_count": 7,
   "id": "7cb0d01b-ec2b-469f-91fb-7716796d1129",
   "metadata": {},
   "outputs": [],
   "source": [
    "# what is ModuleNotfoundError:-\n",
    "# it is not available in python lab is colled ModuleNotfoundError."
   ]
  },
  {
   "cell_type": "code",
   "execution_count": null,
   "id": "98206620-38d7-41db-ad76-a9e8e562b33d",
   "metadata": {},
   "outputs": [],
   "source": []
  }
 ],
 "metadata": {
  "kernelspec": {
   "display_name": "Python 3 (ipykernel)",
   "language": "python",
   "name": "python3"
  },
  "language_info": {
   "codemirror_mode": {
    "name": "ipython",
    "version": 3
   },
   "file_extension": ".py",
   "mimetype": "text/x-python",
   "name": "python",
   "nbconvert_exporter": "python",
   "pygments_lexer": "ipython3",
   "version": "3.10.8"
  }
 },
 "nbformat": 4,
 "nbformat_minor": 5
}
